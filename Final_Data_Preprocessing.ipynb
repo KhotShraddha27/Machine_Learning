{
  "nbformat": 4,
  "nbformat_minor": 0,
  "metadata": {
    "colab": {
      "provenance": [],
      "authorship_tag": "ABX9TyNb7OBIF0NaDzhFnnQyGJ4F",
      "include_colab_link": true
    },
    "kernelspec": {
      "name": "python3",
      "display_name": "Python 3"
    },
    "language_info": {
      "name": "python"
    }
  },
  "cells": [
    {
      "cell_type": "markdown",
      "metadata": {
        "id": "view-in-github",
        "colab_type": "text"
      },
      "source": [
        "<a href=\"https://colab.research.google.com/github/KhotShraddha27/Machine_Learning/blob/main/Final_Data_Preprocessing.ipynb\" target=\"_parent\"><img src=\"https://colab.research.google.com/assets/colab-badge.svg\" alt=\"Open In Colab\"/></a>"
      ]
    },
    {
      "cell_type": "code",
      "execution_count": 1,
      "metadata": {
        "id": "fBV7Sb-FsMNU"
      },
      "outputs": [],
      "source": [
        "\n",
        "import pandas as pd\n",
        "from sklearn.model_selection import train_test_split\n",
        "from sklearn.preprocessing import StandardScaler,LabelEncoder\n",
        "from sklearn.impute import SimpleImputer"
      ]
    },
    {
      "cell_type": "code",
      "source": [
        "data={\n",
        "    'Age':[30,15,65,None,23],\n",
        "    'Salary':[35500,32000,None,45000,78000],\n",
        "    'Department':['HR','IT','IT','HR','HR'],\n",
        "    'Purchased':['Yes','No','No','Yes','Yes'],\n",
        "    'Gender':['Female','Female','Male','Female','Male']\n",
        "}\n",
        "\n",
        "df=pd.DataFrame(data)\n",
        "print(\"Before preprocessing dataset:\\n\",df)"
      ],
      "metadata": {
        "id": "XXZppHwoxssk",
        "colab": {
          "base_uri": "https://localhost:8080/"
        },
        "outputId": "746c6243-d449-4118-fc31-080cf85471c2"
      },
      "execution_count": 2,
      "outputs": [
        {
          "output_type": "stream",
          "name": "stdout",
          "text": [
            "Before preprocessing dataset:\n",
            "     Age   Salary Department Purchased  Gender\n",
            "0  30.0  35500.0         HR       Yes  Female\n",
            "1  15.0  32000.0         IT        No  Female\n",
            "2  65.0      NaN         IT        No    Male\n",
            "3   NaN  45000.0         HR       Yes  Female\n",
            "4  23.0  78000.0         HR       Yes    Male\n"
          ]
        }
      ]
    },
    {
      "cell_type": "code",
      "source": [
        "imputer=SimpleImputer(strategy='mean')\n",
        "df[['Age','Salary']]=imputer.fit_transform(df[['Age','Salary']])\n",
        "print(\"After handling missing values:\\n\",df)"
      ],
      "metadata": {
        "id": "6PvxfIWCdr5D",
        "outputId": "a9682391-e393-4bec-f29e-ce574cd31c19",
        "colab": {
          "base_uri": "https://localhost:8080/"
        }
      },
      "execution_count": 3,
      "outputs": [
        {
          "output_type": "stream",
          "name": "stdout",
          "text": [
            "After handling missing values:\n",
            "      Age   Salary Department Purchased  Gender\n",
            "0  30.00  35500.0         HR       Yes  Female\n",
            "1  15.00  32000.0         IT        No  Female\n",
            "2  65.00  47625.0         IT        No    Male\n",
            "3  33.25  45000.0         HR       Yes  Female\n",
            "4  23.00  78000.0         HR       Yes    Male\n"
          ]
        }
      ]
    },
    {
      "cell_type": "code",
      "source": [
        "label_encoder=LabelEncoder()\n",
        "df['Department']=label_encoder.fit_transform(df['Department'])\n",
        "df['Purchased']=label_encoder.fit_transform(df['Purchased'])\n",
        "df['Gender']=label_encoder.fit_transform(df['Gender'])\n",
        "\n",
        "\n",
        "scaler=StandardScaler()\n",
        "df[['Age','Salary']]=scaler.fit_transform(df[['Age','Salary']])"
      ],
      "metadata": {
        "id": "CaAx2PIBd8ey"
      },
      "execution_count": 6,
      "outputs": []
    },
    {
      "cell_type": "code",
      "source": [
        "scaler=StandardScaler()\n",
        "df[['Age','Salary']]=scaler.fit_transform(df[['Age','Salary']])\n",
        "\n"
      ],
      "metadata": {
        "id": "CTI53bYKdv3l"
      },
      "execution_count": 7,
      "outputs": []
    },
    {
      "cell_type": "code",
      "source": [
        "\n",
        "x=df.drop('Purchased',axis=1)\n",
        "y=df['Purchased']"
      ],
      "metadata": {
        "id": "gRs6nObyoqML"
      },
      "execution_count": 8,
      "outputs": []
    },
    {
      "cell_type": "code",
      "source": [
        "X_train, X_test, y_train, y_test = train_test_split(x, y, test_size=0.2, random_state=42)\n",
        ""
      ],
      "metadata": {
        "id": "BZJT9B3IotgF"
      },
      "execution_count": 9,
      "outputs": []
    },
    {
      "cell_type": "code",
      "source": [
        "print(\"\\nPreprocessed Features (X_train):\\n\", X_train)\n",
        "print(\"\\nTarget (y_train):\\n\", y_train)"
      ],
      "metadata": {
        "colab": {
          "base_uri": "https://localhost:8080/"
        },
        "id": "W7quQ1FNoy6w",
        "outputId": "20b89563-f3e9-427d-9c8c-181b60b8e0c3"
      },
      "execution_count": 10,
      "outputs": [
        {
          "output_type": "stream",
          "name": "stdout",
          "text": [
            "\n",
            "Preprocessed Features (X_train):\n",
            "             Age    Salary  Department  Gender\n",
            "4 -6.005046e-01  1.868965           0       1\n",
            "2  1.860100e+00  0.000000           1       1\n",
            "0 -1.904039e-01 -0.746048           0       0\n",
            "3  2.220446e-17 -0.161516           0       0\n",
            "\n",
            "Target (y_train):\n",
            " 4    1\n",
            "2    0\n",
            "0    1\n",
            "3    1\n",
            "Name: Purchased, dtype: int64\n"
          ]
        }
      ]
    }
  ]
}