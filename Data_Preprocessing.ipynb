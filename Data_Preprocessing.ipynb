{
  "nbformat": 4,
  "nbformat_minor": 0,
  "metadata": {
    "colab": {
      "provenance": [],
      "authorship_tag": "ABX9TyN5mXkl2dqWpPjzSrDzrB7x",
      "include_colab_link": true
    },
    "kernelspec": {
      "name": "python3",
      "display_name": "Python 3"
    },
    "language_info": {
      "name": "python"
    }
  },
  "cells": [
    {
      "cell_type": "markdown",
      "metadata": {
        "id": "view-in-github",
        "colab_type": "text"
      },
      "source": [
        "<a href=\"https://colab.research.google.com/github/KhotShraddha27/Machine_Learning/blob/main/Data_Preprocessing.ipynb\" target=\"_parent\"><img src=\"https://colab.research.google.com/assets/colab-badge.svg\" alt=\"Open In Colab\"/></a>"
      ]
    },
    {
      "cell_type": "code",
      "execution_count": 1,
      "metadata": {
        "id": "fBV7Sb-FsMNU"
      },
      "outputs": [],
      "source": [
        "\n",
        "import pandas as pd\n",
        "from sklearn.model_selection import train_test_split\n",
        "from sklearn.preprocessing import StandardScaler,LabelEncoder\n",
        "from sklearn.impute import SimpleImputer"
      ]
    },
    {
      "cell_type": "code",
      "source": [
        "data={\n",
        "    'Age':[30,15,65,None,23],\n",
        "    'Salary':[35500,32000,None,45000,78000],\n",
        "    'Department':['HR','IT','IT','HR','HR'],\n",
        "    'Purchased':['Yes','No','No','Yes','Yes'],\n",
        "    'Gender':['Female','Female','Male','Female','Male']\n",
        "}\n",
        "\n",
        "df=pd.DataFrame(data)\n",
        "print(\"Before preprocessing dataset:\\n\",df)"
      ],
      "metadata": {
        "id": "XXZppHwoxssk",
        "colab": {
          "base_uri": "https://localhost:8080/"
        },
        "outputId": "17c32963-93b3-453a-ad88-1386a2c25480"
      },
      "execution_count": 2,
      "outputs": [
        {
          "output_type": "stream",
          "name": "stdout",
          "text": [
            "Before preprocessing dataset:\n",
            "     Age   Salary Department Purchased  Gender\n",
            "0  30.0  35500.0         HR       Yes  Female\n",
            "1  15.0  32000.0         IT        No  Female\n",
            "2  65.0      NaN         IT        No    Male\n",
            "3   NaN  45000.0         HR       Yes  Female\n",
            "4  23.0  78000.0         HR       Yes    Male\n"
          ]
        }
      ]
    },
    {
      "cell_type": "code",
      "source": [
        "imputer=SimpleImputer(strategy='mean')\n",
        "df[['Age','Salary']]=imputer.fit_transform(df[['Age','Salary']])\n",
        "print(\"After handling missing values:\\n\",df)"
      ],
      "metadata": {
        "id": "6PvxfIWCdr5D",
        "colab": {
          "base_uri": "https://localhost:8080/"
        },
        "outputId": "31ae2fc1-d8ed-4e08-ad05-40c0d03abc8e"
      },
      "execution_count": 3,
      "outputs": [
        {
          "output_type": "stream",
          "name": "stdout",
          "text": [
            "After handling missing values:\n",
            "      Age   Salary Department Purchased  Gender\n",
            "0  30.00  35500.0         HR       Yes  Female\n",
            "1  15.00  32000.0         IT        No  Female\n",
            "2  65.00  47625.0         IT        No    Male\n",
            "3  33.25  45000.0         HR       Yes  Female\n",
            "4  23.00  78000.0         HR       Yes    Male\n"
          ]
        }
      ]
    },
    {
      "cell_type": "code",
      "source": [
        "x=df.drop('Purchased',axis=1)\n",
        "y=df['Purchased']\n",
        "\n",
        "\n",
        "X_train, X_test, y_train, y_test = train_test_split(x, y, test_size=0.2, random_state=42)\n",
        "\n",
        "\n",
        "print(\"\\nPreprocessed Features (X_train):\\n\", X_train)\n",
        "print(\"\\nTarget (y_train):\\n\", y_train)"
      ],
      "metadata": {
        "id": "CaAx2PIBd8ey",
        "colab": {
          "base_uri": "https://localhost:8080/"
        },
        "outputId": "91a2c580-bc17-4002-d15d-c4736b206c0c"
      },
      "execution_count": 4,
      "outputs": [
        {
          "output_type": "stream",
          "name": "stdout",
          "text": [
            "\n",
            "Preprocessed Features (X_train):\n",
            "      Age   Salary Department  Gender\n",
            "4  23.00  78000.0         HR    Male\n",
            "2  65.00  47625.0         IT    Male\n",
            "0  30.00  35500.0         HR  Female\n",
            "3  33.25  45000.0         HR  Female\n",
            "\n",
            "Target (y_train):\n",
            " 4    Yes\n",
            "2     No\n",
            "0    Yes\n",
            "3    Yes\n",
            "Name: Purchased, dtype: object\n"
          ]
        }
      ]
    },
    {
      "cell_type": "code",
      "source": [
        "label_encoder=LabelEncoder()\n",
        "df['Department']=label_encoder.fit_transform(df['Department'])\n",
        "df['Purchased']=label_encoder.fit_transform(df['Purchased'])\n",
        "df['Gender']=label_encoder.fit_transform(df['Gender'])\n",
        "\n",
        "\n",
        "scaler=StandardScaler()\n",
        "df[['Age','Salary']]=scaler.fit_transform(df[['Age','Salary']])"
      ],
      "metadata": {
        "id": "CTI53bYKdv3l"
      },
      "execution_count": 5,
      "outputs": []
    }
  ]
}